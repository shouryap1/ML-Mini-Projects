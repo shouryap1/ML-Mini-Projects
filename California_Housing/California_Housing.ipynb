{
  "nbformat": 4,
  "nbformat_minor": 0,
  "metadata": {
    "colab": {
      "provenance": []
    },
    "kernelspec": {
      "name": "python3",
      "display_name": "Python 3"
    },
    "language_info": {
      "name": "python"
    }
  },
  "cells": [
    {
      "cell_type": "code",
      "execution_count": 89,
      "metadata": {
        "id": "C0-uYtKlFJg3"
      },
      "outputs": [],
      "source": [
        "import numpy as np\n",
        "import pandas as pd\n",
        "import matplotlib.pyplot as plt\n",
        "import tensorflow as tf\n",
        "from tensorflow import keras\n",
        "from sklearn.model_selection import GridSearchCV\n",
        "from keras.wrappers.scikit_learn import KerasClassifier\n"
      ]
    },
    {
      "cell_type": "code",
      "source": [
        "from sklearn.datasets import fetch_california_housing\n",
        "from sklearn.model_selection import train_test_split\n",
        "from sklearn.preprocessing import StandardScaler"
      ],
      "metadata": {
        "id": "1qdh4-vfFXCK"
      },
      "execution_count": 2,
      "outputs": []
    },
    {
      "cell_type": "code",
      "source": [
        "housing = fetch_california_housing()"
      ],
      "metadata": {
        "id": "ouUaeGjjFeco"
      },
      "execution_count": 3,
      "outputs": []
    },
    {
      "cell_type": "code",
      "source": [
        "X_train_full, X_test, y_train_full, y_test = train_test_split(housing.data, housing.target)\n",
        "X_train, X_valid, y_train, y_valid = train_test_split(X_train_full, y_train_full)"
      ],
      "metadata": {
        "colab": {
          "base_uri": "https://localhost:8080/"
        },
        "id": "l9LlJyjuFiIs",
        "outputId": "5009cd9b-cb5f-4893-fa62-ff9d3990522c"
      },
      "execution_count": 12,
      "outputs": [
        {
          "output_type": "stream",
          "name": "stdout",
          "text": [
            "[[   5.883        52.            6.2160804  ...    2.77386935\n",
            "    37.82       -122.25      ]\n",
            " [   3.8854       17.            5.25554382 ...    2.09820486\n",
            "    37.04       -122.04      ]\n",
            " [   4.2125       16.            5.82025316 ...    3.15189873\n",
            "    34.96       -120.41      ]\n",
            " ...\n",
            " [   5.3679       18.            4.50553506 ...    1.87084871\n",
            "    37.35       -122.02      ]\n",
            " [   4.4          45.            5.15625    ...    2.51953125\n",
            "    33.86       -118.13      ]\n",
            " [   3.           24.            4.62614679 ...    2.06422018\n",
            "    33.92       -117.97      ]]\n"
          ]
        }
      ]
    },
    {
      "cell_type": "code",
      "source": [
        "print(X_train_full.shape)\n",
        "print(X_train_full[0])\n"
      ],
      "metadata": {
        "colab": {
          "base_uri": "https://localhost:8080/"
        },
        "id": "H9dTpUm9Kup3",
        "outputId": "2349c9be-b33e-4f96-aa36-1e06709bdd90"
      },
      "execution_count": 56,
      "outputs": [
        {
          "output_type": "stream",
          "name": "stdout",
          "text": [
            "(15480, 8)\n",
            "[ 5.88300000e+00  5.20000000e+01  6.21608040e+00  1.01256281e+00\n",
            "  1.10400000e+03  2.77386935e+00  3.78200000e+01 -1.22250000e+02]\n"
          ]
        }
      ]
    },
    {
      "cell_type": "code",
      "source": [
        "scaler = StandardScaler()\n",
        "X_train_scaled = scaler.fit_transform(X_train)\n",
        "X_valid_scaled = scaler.transform(X_valid)\n",
        "X_test_scaled = scaler.transform(X_test)"
      ],
      "metadata": {
        "colab": {
          "base_uri": "https://localhost:8080/"
        },
        "id": "nIjXV-PvFmAk",
        "outputId": "cc57c43b-44c5-495b-f836-a9167b4cf14f"
      },
      "execution_count": 13,
      "outputs": [
        {
          "output_type": "stream",
          "name": "stdout",
          "text": [
            "[[ 0.4092919  -0.36988435  0.30954123 ... -0.10432094 -0.84753734\n",
            "   0.75222424]\n",
            " [-0.02831514 -0.13308929 -0.41080994 ... -0.23867278 -0.72591105\n",
            "   0.58732085]\n",
            " [-1.16530923  0.73515925 -0.78660203 ...  0.16007061 -0.76801245\n",
            "   0.69225937]\n",
            " ...\n",
            " [ 0.56645401 -1.15920121 -0.12542155 ...  0.11340476 -1.27322936\n",
            "   1.20695783]\n",
            " [-0.92731792 -0.6856111  -0.63832737 ... -0.01931224 -1.34807631\n",
            "   1.22694612]\n",
            " [ 1.00291083 -0.13308929  0.36010053 ...  0.02188233  0.77102793\n",
            "  -1.20662814]]\n"
          ]
        }
      ]
    },
    {
      "cell_type": "code",
      "source": [
        "print(X_train_scaled[0])"
      ],
      "metadata": {
        "colab": {
          "base_uri": "https://localhost:8080/"
        },
        "id": "DMzaAO_ALBKM",
        "outputId": "47d4fbed-ce13-4785-890a-ef9aab8c0de1"
      },
      "execution_count": 57,
      "outputs": [
        {
          "output_type": "stream",
          "name": "stdout",
          "text": [
            "[ 0.4092919  -0.36988435  0.30954123 -0.07472905  0.13386985 -0.10432094\n",
            " -0.84753734  0.75222424]\n"
          ]
        }
      ]
    },
    {
      "cell_type": "code",
      "source": [
        "model = keras.models.Sequential([\n",
        "keras.layers.Dense(300,name=\"dense1\", activation=\"relu\"),\n",
        "keras.layers.Dense(100,name=\"dense2\", activation=\"relu\"),\n",
        "keras.layers.Dense(70,name=\"dense3\", activation=\"relu\"),\n",
        "keras.layers.Dense(450,name=\"dense4\", activation=keras.layers.LeakyReLU(alpha=0.1)),\n",
        "keras.layers.Dense(30,name=\"dense5\", activation=\"relu\"),\n",
        "keras.layers.Dense(1,name=\"dense6\")\n",
        "])"
      ],
      "metadata": {
        "id": "Z5xTOpwAFqs8"
      },
      "execution_count": 69,
      "outputs": []
    },
    {
      "cell_type": "code",
      "source": [
        "model1 = keras.models.Sequential([\n",
        "        keras.layers.Dense(300, name=\"dense1\", activation=\"relu\"),\n",
        "        keras.layers.Dense(100, name=\"dense2\", activation=\"relu\"),\n",
        "        keras.layers.Dense(70, name=\"dense3\", activation=\"relu\"),\n",
        "        keras.layers.Dense(450, name=\"dense4\", activation=keras.layers.LeakyReLU(alpha=0.1)),\n",
        "        keras.layers.Dense(30, name=\"dense5\", activation=\"relu\"),\n",
        "        keras.layers.Dense(1, name=\"dense6\")\n",
        "    ])\n",
        "model1.compile(loss='binary_crossentropy', optimizer='adam', metrics=['accuracy'])"
      ],
      "metadata": {
        "id": "uFFFlnVbs26V"
      },
      "execution_count": 70,
      "outputs": []
    },
    {
      "cell_type": "code",
      "source": [
        "input = keras.layers.Input(shape=X_train.shape[1:])\n",
        "hidden1 = keras.layers.Dense(30, activation=\"relu\")(input)\n",
        "hidden2 = keras.layers.Dense(30, activation=\"relu\")(hidden1)\n",
        "concat = keras.layers.Concatenate()([input, hidden2])\n",
        "output = keras.layers.Dense(1)(concat)\n",
        "model2 = keras.models.Model(inputs=[input], outputs=[output])"
      ],
      "metadata": {
        "id": "C70rGENVQbdv"
      },
      "execution_count": 65,
      "outputs": []
    },
    {
      "cell_type": "code",
      "source": [
        "model.compile(loss=\"mean_squared_error\", optimizer=\"sgd\")\n",
        "history = model.fit(X_train_scaled, y_train, epochs=50,validation_data=(X_valid_scaled, y_valid))"
      ],
      "metadata": {
        "colab": {
          "base_uri": "https://localhost:8080/"
        },
        "id": "JiLZMnJnGdeH",
        "outputId": "c2ba950d-c48e-436e-ec24-66fa362ce8c3"
      },
      "execution_count": 63,
      "outputs": [
        {
          "output_type": "stream",
          "name": "stdout",
          "text": [
            "Epoch 1/50\n",
            "363/363 [==============================] - 2s 3ms/step - loss: 0.6520 - val_loss: 0.5171\n",
            "Epoch 2/50\n",
            "363/363 [==============================] - 1s 2ms/step - loss: 0.3856 - val_loss: 0.3949\n",
            "Epoch 3/50\n",
            "363/363 [==============================] - 1s 2ms/step - loss: 0.3536 - val_loss: 0.4719\n",
            "Epoch 4/50\n",
            "363/363 [==============================] - 1s 2ms/step - loss: 0.3379 - val_loss: 0.3775\n",
            "Epoch 5/50\n",
            "363/363 [==============================] - 1s 3ms/step - loss: 0.3267 - val_loss: 0.5317\n",
            "Epoch 6/50\n",
            "363/363 [==============================] - 1s 2ms/step - loss: 0.3192 - val_loss: 0.4236\n",
            "Epoch 7/50\n",
            "363/363 [==============================] - 1s 3ms/step - loss: 0.3111 - val_loss: 0.3963\n",
            "Epoch 8/50\n",
            "363/363 [==============================] - 2s 4ms/step - loss: 0.3059 - val_loss: 0.3786\n",
            "Epoch 9/50\n",
            "363/363 [==============================] - 1s 4ms/step - loss: 0.2987 - val_loss: 0.3647\n",
            "Epoch 10/50\n",
            "363/363 [==============================] - 1s 3ms/step - loss: 0.2956 - val_loss: 0.3780\n",
            "Epoch 11/50\n",
            "363/363 [==============================] - 1s 2ms/step - loss: 0.2866 - val_loss: 0.3382\n",
            "Epoch 12/50\n",
            "363/363 [==============================] - 1s 2ms/step - loss: 0.2856 - val_loss: 0.3386\n",
            "Epoch 13/50\n",
            "363/363 [==============================] - 1s 2ms/step - loss: 0.2820 - val_loss: 0.3300\n",
            "Epoch 14/50\n",
            "363/363 [==============================] - 1s 3ms/step - loss: 0.2814 - val_loss: 0.3841\n",
            "Epoch 15/50\n",
            "363/363 [==============================] - 3s 7ms/step - loss: 0.2749 - val_loss: 0.3364\n",
            "Epoch 16/50\n",
            "363/363 [==============================] - 2s 5ms/step - loss: 0.2754 - val_loss: 0.3457\n",
            "Epoch 17/50\n",
            "363/363 [==============================] - 2s 4ms/step - loss: 0.2785 - val_loss: 0.3262\n",
            "Epoch 18/50\n",
            "363/363 [==============================] - 2s 5ms/step - loss: 0.2724 - val_loss: 0.3589\n",
            "Epoch 19/50\n",
            "363/363 [==============================] - 1s 4ms/step - loss: 0.2694 - val_loss: 0.3429\n",
            "Epoch 20/50\n",
            "363/363 [==============================] - 1s 3ms/step - loss: 0.2676 - val_loss: 0.3206\n",
            "Epoch 21/50\n",
            "363/363 [==============================] - 1s 2ms/step - loss: 0.2661 - val_loss: 0.3343\n",
            "Epoch 22/50\n",
            "363/363 [==============================] - 1s 2ms/step - loss: 0.2621 - val_loss: 0.3240\n",
            "Epoch 23/50\n",
            "363/363 [==============================] - 1s 2ms/step - loss: 0.2618 - val_loss: 0.3257\n",
            "Epoch 24/50\n",
            "363/363 [==============================] - 1s 2ms/step - loss: 0.2625 - val_loss: 0.3163\n",
            "Epoch 25/50\n",
            "363/363 [==============================] - 1s 3ms/step - loss: 0.2628 - val_loss: 0.3261\n",
            "Epoch 26/50\n",
            "363/363 [==============================] - 1s 2ms/step - loss: 0.2569 - val_loss: 0.3230\n",
            "Epoch 27/50\n",
            "363/363 [==============================] - 1s 2ms/step - loss: 0.2561 - val_loss: 0.3337\n",
            "Epoch 28/50\n",
            "363/363 [==============================] - 1s 2ms/step - loss: 0.2572 - val_loss: 0.3306\n",
            "Epoch 29/50\n",
            "363/363 [==============================] - 1s 2ms/step - loss: 0.2527 - val_loss: 0.3539\n",
            "Epoch 30/50\n",
            "363/363 [==============================] - 1s 2ms/step - loss: 0.2547 - val_loss: 0.3649\n",
            "Epoch 31/50\n",
            "363/363 [==============================] - 1s 2ms/step - loss: 0.2512 - val_loss: 0.3476\n",
            "Epoch 32/50\n",
            "363/363 [==============================] - 1s 2ms/step - loss: 0.2501 - val_loss: 0.3192\n",
            "Epoch 33/50\n",
            "363/363 [==============================] - 1s 2ms/step - loss: 0.2489 - val_loss: 0.3192\n",
            "Epoch 34/50\n",
            "363/363 [==============================] - 1s 2ms/step - loss: 0.2484 - val_loss: 0.3358\n",
            "Epoch 35/50\n",
            "363/363 [==============================] - 1s 2ms/step - loss: 0.2492 - val_loss: 0.3187\n",
            "Epoch 36/50\n",
            "363/363 [==============================] - 1s 2ms/step - loss: 0.2472 - val_loss: 0.3387\n",
            "Epoch 37/50\n",
            "363/363 [==============================] - 1s 2ms/step - loss: 0.2431 - val_loss: 0.3112\n",
            "Epoch 38/50\n",
            "363/363 [==============================] - 1s 2ms/step - loss: 0.2469 - val_loss: 0.3161\n",
            "Epoch 39/50\n",
            "363/363 [==============================] - 1s 3ms/step - loss: 0.2434 - val_loss: 0.3173\n",
            "Epoch 40/50\n",
            "363/363 [==============================] - 1s 3ms/step - loss: 0.2424 - val_loss: 0.3986\n",
            "Epoch 41/50\n",
            "363/363 [==============================] - 1s 2ms/step - loss: 0.2400 - val_loss: 0.3252\n",
            "Epoch 42/50\n",
            "363/363 [==============================] - 1s 2ms/step - loss: 0.2395 - val_loss: 0.3544\n",
            "Epoch 43/50\n",
            "363/363 [==============================] - 1s 2ms/step - loss: 0.2379 - val_loss: 0.3174\n",
            "Epoch 44/50\n",
            "363/363 [==============================] - 1s 2ms/step - loss: 0.2388 - val_loss: 0.4002\n",
            "Epoch 45/50\n",
            "363/363 [==============================] - 1s 2ms/step - loss: 0.2402 - val_loss: 0.3166\n",
            "Epoch 46/50\n",
            "363/363 [==============================] - 1s 2ms/step - loss: 0.2384 - val_loss: 0.3448\n",
            "Epoch 47/50\n",
            "363/363 [==============================] - 1s 2ms/step - loss: 0.2364 - val_loss: 0.3260\n",
            "Epoch 48/50\n",
            "363/363 [==============================] - 1s 2ms/step - loss: 0.2333 - val_loss: 0.3056\n",
            "Epoch 49/50\n",
            "363/363 [==============================] - 1s 2ms/step - loss: 0.2346 - val_loss: 0.3170\n",
            "Epoch 50/50\n",
            "363/363 [==============================] - 1s 2ms/step - loss: 0.2338 - val_loss: 0.3306\n"
          ]
        }
      ]
    },
    {
      "cell_type": "code",
      "source": [
        "# model10 = KerasClassifier(build_fn=model1)\n",
        "\n",
        "# # Define the parameter grid\n",
        "# param_grid = {\n",
        "#     'batch_size': [32, 64],\n",
        "#     'epochs': [10, 20],\n",
        "#     'optimizer': ['adam', 'rmsprop']\n",
        "# }\n",
        "\n",
        "# # Create the GridSearchCV object\n",
        "# grid = GridSearchCV(estimator=model10, param_grid=param_grid, cv=3)\n",
        "\n",
        "# # Fit the grid search on the data\n",
        "# grid_result = grid.fit(X_train, y_train)\n",
        "\n",
        "# # Print the best parameters and score\n",
        "# print(\"Best parameters: \", grid_result.best_params_)\n",
        "# print(\"Best score: \", grid_result.best_score_)"
      ],
      "metadata": {
        "colab": {
          "base_uri": "https://localhost:8080/",
          "height": 436
        },
        "id": "jFBPgPPZtKIM",
        "outputId": "4efb1552-65fe-4672-af22-83676a6d327f"
      },
      "execution_count": 90,
      "outputs": [
        {
          "output_type": "stream",
          "name": "stderr",
          "text": [
            "<ipython-input-90-58cab5a78a5a>:1: DeprecationWarning: KerasClassifier is deprecated, use Sci-Keras (https://github.com/adriangb/scikeras) instead. See https://www.adriangb.com/scikeras/stable/migration.html for help migrating.\n",
            "  model10 = KerasClassifier(build_fn=model1)\n"
          ]
        },
        {
          "output_type": "error",
          "ename": "AttributeError",
          "evalue": "ignored",
          "traceback": [
            "\u001b[0;31m---------------------------------------------------------------------------\u001b[0m",
            "\u001b[0;31mAttributeError\u001b[0m                            Traceback (most recent call last)",
            "\u001b[0;32m<ipython-input-90-58cab5a78a5a>\u001b[0m in \u001b[0;36m<cell line: 1>\u001b[0;34m()\u001b[0m\n\u001b[0;32m----> 1\u001b[0;31m \u001b[0mmodel10\u001b[0m \u001b[0;34m=\u001b[0m \u001b[0mKerasClassifier\u001b[0m\u001b[0;34m(\u001b[0m\u001b[0mbuild_fn\u001b[0m\u001b[0;34m=\u001b[0m\u001b[0mmodel1\u001b[0m\u001b[0;34m)\u001b[0m\u001b[0;34m\u001b[0m\u001b[0;34m\u001b[0m\u001b[0m\n\u001b[0m\u001b[1;32m      2\u001b[0m \u001b[0;34m\u001b[0m\u001b[0m\n\u001b[1;32m      3\u001b[0m \u001b[0;31m# Define the parameter grid\u001b[0m\u001b[0;34m\u001b[0m\u001b[0;34m\u001b[0m\u001b[0m\n\u001b[1;32m      4\u001b[0m param_grid = {\n\u001b[1;32m      5\u001b[0m     \u001b[0;34m'batch_size'\u001b[0m\u001b[0;34m:\u001b[0m \u001b[0;34m[\u001b[0m\u001b[0;36m32\u001b[0m\u001b[0;34m,\u001b[0m \u001b[0;36m64\u001b[0m\u001b[0;34m]\u001b[0m\u001b[0;34m,\u001b[0m\u001b[0;34m\u001b[0m\u001b[0;34m\u001b[0m\u001b[0m\n",
            "\u001b[0;32m/usr/local/lib/python3.10/dist-packages/keras/wrappers/scikit_learn.py\u001b[0m in \u001b[0;36m__init__\u001b[0;34m(self, build_fn, **sk_params)\u001b[0m\n\u001b[1;32m    216\u001b[0m             \u001b[0mstacklevel\u001b[0m\u001b[0;34m=\u001b[0m\u001b[0;36m2\u001b[0m\u001b[0;34m,\u001b[0m\u001b[0;34m\u001b[0m\u001b[0;34m\u001b[0m\u001b[0m\n\u001b[1;32m    217\u001b[0m         )\n\u001b[0;32m--> 218\u001b[0;31m         \u001b[0msuper\u001b[0m\u001b[0;34m(\u001b[0m\u001b[0;34m)\u001b[0m\u001b[0;34m.\u001b[0m\u001b[0m__init__\u001b[0m\u001b[0;34m(\u001b[0m\u001b[0mbuild_fn\u001b[0m\u001b[0;34m,\u001b[0m \u001b[0;34m**\u001b[0m\u001b[0msk_params\u001b[0m\u001b[0;34m)\u001b[0m\u001b[0;34m\u001b[0m\u001b[0;34m\u001b[0m\u001b[0m\n\u001b[0m\u001b[1;32m    219\u001b[0m \u001b[0;34m\u001b[0m\u001b[0m\n\u001b[1;32m    220\u001b[0m     \u001b[0;32mdef\u001b[0m \u001b[0mfit\u001b[0m\u001b[0;34m(\u001b[0m\u001b[0mself\u001b[0m\u001b[0;34m,\u001b[0m \u001b[0mx\u001b[0m\u001b[0;34m,\u001b[0m \u001b[0my\u001b[0m\u001b[0;34m,\u001b[0m \u001b[0;34m**\u001b[0m\u001b[0mkwargs\u001b[0m\u001b[0;34m)\u001b[0m\u001b[0;34m:\u001b[0m\u001b[0;34m\u001b[0m\u001b[0;34m\u001b[0m\u001b[0m\n",
            "\u001b[0;32m/usr/local/lib/python3.10/dist-packages/keras/wrappers/scikit_learn.py\u001b[0m in \u001b[0;36m__init__\u001b[0;34m(self, build_fn, **sk_params)\u001b[0m\n\u001b[1;32m     76\u001b[0m         \u001b[0mself\u001b[0m\u001b[0;34m.\u001b[0m\u001b[0mbuild_fn\u001b[0m \u001b[0;34m=\u001b[0m \u001b[0mbuild_fn\u001b[0m\u001b[0;34m\u001b[0m\u001b[0;34m\u001b[0m\u001b[0m\n\u001b[1;32m     77\u001b[0m         \u001b[0mself\u001b[0m\u001b[0;34m.\u001b[0m\u001b[0msk_params\u001b[0m \u001b[0;34m=\u001b[0m \u001b[0msk_params\u001b[0m\u001b[0;34m\u001b[0m\u001b[0;34m\u001b[0m\u001b[0m\n\u001b[0;32m---> 78\u001b[0;31m         \u001b[0mself\u001b[0m\u001b[0;34m.\u001b[0m\u001b[0mcheck_params\u001b[0m\u001b[0;34m(\u001b[0m\u001b[0msk_params\u001b[0m\u001b[0;34m)\u001b[0m\u001b[0;34m\u001b[0m\u001b[0;34m\u001b[0m\u001b[0m\n\u001b[0m\u001b[1;32m     79\u001b[0m \u001b[0;34m\u001b[0m\u001b[0m\n\u001b[1;32m     80\u001b[0m     \u001b[0;32mdef\u001b[0m \u001b[0mcheck_params\u001b[0m\u001b[0;34m(\u001b[0m\u001b[0mself\u001b[0m\u001b[0;34m,\u001b[0m \u001b[0mparams\u001b[0m\u001b[0;34m)\u001b[0m\u001b[0;34m:\u001b[0m\u001b[0;34m\u001b[0m\u001b[0;34m\u001b[0m\u001b[0m\n",
            "\u001b[0;32m/usr/local/lib/python3.10/dist-packages/keras/wrappers/scikit_learn.py\u001b[0m in \u001b[0;36mcheck_params\u001b[0;34m(self, params)\u001b[0m\n\u001b[1;32m     97\u001b[0m             \u001b[0mself\u001b[0m\u001b[0;34m.\u001b[0m\u001b[0mbuild_fn\u001b[0m\u001b[0;34m,\u001b[0m \u001b[0mtypes\u001b[0m\u001b[0;34m.\u001b[0m\u001b[0mFunctionType\u001b[0m\u001b[0;34m\u001b[0m\u001b[0;34m\u001b[0m\u001b[0m\n\u001b[1;32m     98\u001b[0m         ) and not isinstance(self.build_fn, types.MethodType):\n\u001b[0;32m---> 99\u001b[0;31m             \u001b[0mlegal_params_fns\u001b[0m\u001b[0;34m.\u001b[0m\u001b[0mappend\u001b[0m\u001b[0;34m(\u001b[0m\u001b[0mself\u001b[0m\u001b[0;34m.\u001b[0m\u001b[0mbuild_fn\u001b[0m\u001b[0;34m.\u001b[0m\u001b[0m__call__\u001b[0m\u001b[0;34m)\u001b[0m\u001b[0;34m\u001b[0m\u001b[0;34m\u001b[0m\u001b[0m\n\u001b[0m\u001b[1;32m    100\u001b[0m         \u001b[0;32melse\u001b[0m\u001b[0;34m:\u001b[0m\u001b[0;34m\u001b[0m\u001b[0;34m\u001b[0m\u001b[0m\n\u001b[1;32m    101\u001b[0m             \u001b[0mlegal_params_fns\u001b[0m\u001b[0;34m.\u001b[0m\u001b[0mappend\u001b[0m\u001b[0;34m(\u001b[0m\u001b[0mself\u001b[0m\u001b[0;34m.\u001b[0m\u001b[0mbuild_fn\u001b[0m\u001b[0;34m)\u001b[0m\u001b[0;34m\u001b[0m\u001b[0;34m\u001b[0m\u001b[0m\n",
            "\u001b[0;31mAttributeError\u001b[0m: 'KerasClassifier' object has no attribute '__call__'"
          ]
        }
      ]
    },
    {
      "cell_type": "code",
      "source": [
        "model2.compile(loss=\"mean_squared_error\", optimizer=\"sgd\")\n",
        "history = model1.fit(X_train_scaled, y_train, epochs=50,validation_data=(X_valid_scaled, y_valid))"
      ],
      "metadata": {
        "colab": {
          "base_uri": "https://localhost:8080/"
        },
        "id": "GR1pjaZaQ1ok",
        "outputId": "fe3276cb-7cc2-4147-b225-1af829e7917b"
      },
      "execution_count": 66,
      "outputs": [
        {
          "output_type": "stream",
          "name": "stdout",
          "text": [
            "Epoch 1/50\n",
            "363/363 [==============================] - 1s 2ms/step - loss: 1.4280 - val_loss: 2.9902\n",
            "Epoch 2/50\n",
            "363/363 [==============================] - 1s 1ms/step - loss: 0.5646 - val_loss: 0.7480\n",
            "Epoch 3/50\n",
            "363/363 [==============================] - 1s 1ms/step - loss: 0.7411 - val_loss: 0.8712\n",
            "Epoch 4/50\n",
            "363/363 [==============================] - 0s 1ms/step - loss: 0.6169 - val_loss: 1.0921\n",
            "Epoch 5/50\n",
            "363/363 [==============================] - 1s 1ms/step - loss: 0.5843 - val_loss: 0.4915\n",
            "Epoch 6/50\n",
            "363/363 [==============================] - 1s 1ms/step - loss: 0.4344 - val_loss: 0.8902\n",
            "Epoch 7/50\n",
            "363/363 [==============================] - 0s 1ms/step - loss: 0.4137 - val_loss: 0.6293\n",
            "Epoch 8/50\n",
            "363/363 [==============================] - 1s 1ms/step - loss: 0.4090 - val_loss: 0.5098\n",
            "Epoch 9/50\n",
            "363/363 [==============================] - 1s 1ms/step - loss: 0.4013 - val_loss: 0.4264\n",
            "Epoch 10/50\n",
            "363/363 [==============================] - 0s 1ms/step - loss: 0.3592 - val_loss: 0.4115\n",
            "Epoch 11/50\n",
            "363/363 [==============================] - 0s 1ms/step - loss: 0.3480 - val_loss: 0.3964\n",
            "Epoch 12/50\n",
            "363/363 [==============================] - 1s 1ms/step - loss: 0.3401 - val_loss: 0.4427\n",
            "Epoch 13/50\n",
            "363/363 [==============================] - 1s 1ms/step - loss: 0.3360 - val_loss: 0.6456\n",
            "Epoch 14/50\n",
            "363/363 [==============================] - 1s 1ms/step - loss: 0.3351 - val_loss: 0.5478\n",
            "Epoch 15/50\n",
            "363/363 [==============================] - 1s 1ms/step - loss: 0.3939 - val_loss: 0.4167\n",
            "Epoch 16/50\n",
            "363/363 [==============================] - 1s 1ms/step - loss: 0.3446 - val_loss: 0.3625\n",
            "Epoch 17/50\n",
            "363/363 [==============================] - 0s 1ms/step - loss: 0.3209 - val_loss: 0.3707\n",
            "Epoch 18/50\n",
            "363/363 [==============================] - 0s 1ms/step - loss: 0.3177 - val_loss: 0.3579\n",
            "Epoch 19/50\n",
            "363/363 [==============================] - 1s 2ms/step - loss: 0.3171 - val_loss: 0.7441\n",
            "Epoch 20/50\n",
            "363/363 [==============================] - 1s 2ms/step - loss: 0.3223 - val_loss: 0.4763\n",
            "Epoch 21/50\n",
            "363/363 [==============================] - 1s 2ms/step - loss: 0.3137 - val_loss: 0.4043\n",
            "Epoch 22/50\n",
            "363/363 [==============================] - 0s 1ms/step - loss: 0.3089 - val_loss: 0.4692\n",
            "Epoch 23/50\n",
            "363/363 [==============================] - 0s 1ms/step - loss: 0.3080 - val_loss: 0.3495\n",
            "Epoch 24/50\n",
            "363/363 [==============================] - 0s 1ms/step - loss: 0.3034 - val_loss: 0.3443\n",
            "Epoch 25/50\n",
            "363/363 [==============================] - 1s 2ms/step - loss: 0.3004 - val_loss: 0.3528\n",
            "Epoch 26/50\n",
            "363/363 [==============================] - 0s 1ms/step - loss: 0.3128 - val_loss: 0.3608\n",
            "Epoch 27/50\n",
            "363/363 [==============================] - 0s 1ms/step - loss: 0.3052 - val_loss: 0.3885\n",
            "Epoch 28/50\n",
            "363/363 [==============================] - 0s 1ms/step - loss: 0.2974 - val_loss: 0.4567\n",
            "Epoch 29/50\n",
            "363/363 [==============================] - 1s 1ms/step - loss: 0.3321 - val_loss: 0.3604\n",
            "Epoch 30/50\n",
            "363/363 [==============================] - 1s 1ms/step - loss: 0.2927 - val_loss: 0.3427\n",
            "Epoch 31/50\n",
            "363/363 [==============================] - 0s 1ms/step - loss: 0.3001 - val_loss: 0.3319\n",
            "Epoch 32/50\n",
            "363/363 [==============================] - 0s 1ms/step - loss: 0.2880 - val_loss: 0.3410\n",
            "Epoch 33/50\n",
            "363/363 [==============================] - 0s 1ms/step - loss: 0.2872 - val_loss: 0.3684\n",
            "Epoch 34/50\n",
            "363/363 [==============================] - 0s 1ms/step - loss: 0.2909 - val_loss: 0.3632\n",
            "Epoch 35/50\n",
            "363/363 [==============================] - 1s 1ms/step - loss: 0.2890 - val_loss: 0.3559\n",
            "Epoch 36/50\n",
            "363/363 [==============================] - 1s 1ms/step - loss: 0.2861 - val_loss: 0.3573\n",
            "Epoch 37/50\n",
            "363/363 [==============================] - 0s 1ms/step - loss: 0.2856 - val_loss: 0.3642\n",
            "Epoch 38/50\n",
            "363/363 [==============================] - 1s 1ms/step - loss: 0.3052 - val_loss: 0.3264\n",
            "Epoch 39/50\n",
            "363/363 [==============================] - 0s 1ms/step - loss: 0.2833 - val_loss: 0.3366\n",
            "Epoch 40/50\n",
            "363/363 [==============================] - 0s 1ms/step - loss: 0.2805 - val_loss: 0.3632\n",
            "Epoch 41/50\n",
            "363/363 [==============================] - 1s 1ms/step - loss: 0.2802 - val_loss: 0.3468\n",
            "Epoch 42/50\n",
            "363/363 [==============================] - 1s 2ms/step - loss: 0.2817 - val_loss: 0.3389\n",
            "Epoch 43/50\n",
            "363/363 [==============================] - 1s 2ms/step - loss: 0.2811 - val_loss: 0.3306\n",
            "Epoch 44/50\n",
            "363/363 [==============================] - 1s 2ms/step - loss: 0.2786 - val_loss: 0.3353\n",
            "Epoch 45/50\n",
            "363/363 [==============================] - 1s 1ms/step - loss: 0.2782 - val_loss: 0.3524\n",
            "Epoch 46/50\n",
            "363/363 [==============================] - 1s 1ms/step - loss: 0.2888 - val_loss: 0.3244\n",
            "Epoch 47/50\n",
            "363/363 [==============================] - 0s 1ms/step - loss: 0.2782 - val_loss: 0.3246\n",
            "Epoch 48/50\n",
            "363/363 [==============================] - 0s 1ms/step - loss: 0.2779 - val_loss: 0.3268\n",
            "Epoch 49/50\n",
            "363/363 [==============================] - 1s 1ms/step - loss: 0.2763 - val_loss: 0.3389\n",
            "Epoch 50/50\n",
            "363/363 [==============================] - 1s 1ms/step - loss: 0.2870 - val_loss: 0.3243\n"
          ]
        }
      ]
    },
    {
      "cell_type": "code",
      "source": [
        "mse_test = model.evaluate(X_test, y_test)\n",
        "X_new = X_test_scaled[:3]\n",
        "y_pred = model.predict(X_new)\n",
        "print(y_test[:3])\n",
        "print(y_pred)"
      ],
      "metadata": {
        "colab": {
          "base_uri": "https://localhost:8080/"
        },
        "id": "1yfXVOXcGh0-",
        "outputId": "258dec18-4767-4445-bb93-9aab70c9a465"
      },
      "execution_count": 52,
      "outputs": [
        {
          "output_type": "stream",
          "name": "stdout",
          "text": [
            "162/162 [==============================] - 0s 1ms/step - loss: 21626.6973\n"
          ]
        },
        {
          "output_type": "stream",
          "name": "stderr",
          "text": [
            "WARNING:tensorflow:6 out of the last 9 calls to <function Model.make_predict_function.<locals>.predict_function at 0x7f8d2b2d0700> triggered tf.function retracing. Tracing is expensive and the excessive number of tracings could be due to (1) creating @tf.function repeatedly in a loop, (2) passing tensors with different shapes, (3) passing Python objects instead of tensors. For (1), please define your @tf.function outside of the loop. For (2), @tf.function has reduce_retracing=True option that can avoid unnecessary retracing. For (3), please refer to https://www.tensorflow.org/guide/function#controlling_retracing and https://www.tensorflow.org/api_docs/python/tf/function for  more details.\n"
          ]
        },
        {
          "output_type": "stream",
          "name": "stdout",
          "text": [
            "1/1 [==============================] - 0s 58ms/step\n",
            "[1.136 2.347 2.561]\n",
            "[[1.4716773]\n",
            " [2.4009714]\n",
            " [2.3775475]]\n"
          ]
        }
      ]
    },
    {
      "cell_type": "code",
      "source": [
        "pd.DataFrame(history.history).plot(figsize=(8, 5))\n",
        "plt.grid(True)\n",
        "plt.gca().set_ylim(0, 1) # set the vertical range to [0-1]\n",
        "plt.show()"
      ],
      "metadata": {
        "colab": {
          "base_uri": "https://localhost:8080/",
          "height": 451
        },
        "id": "eaaWz3RLGsnS",
        "outputId": "f520fe2f-035a-4e70-c312-52faebeb7bd0"
      },
      "execution_count": 53,
      "outputs": [
        {
          "output_type": "display_data",
          "data": {
            "text/plain": [
              "<Figure size 800x500 with 1 Axes>"
            ],
            "image/png": "[encoded data removed]"
          },
          "metadata": {}
        }
      ]
    },
    {
      "cell_type": "code",
      "source": [],
      "metadata": {
        "id": "XbcpoujTKTcV"
      },
      "execution_count": null,
      "outputs": []
    }
  ]
}