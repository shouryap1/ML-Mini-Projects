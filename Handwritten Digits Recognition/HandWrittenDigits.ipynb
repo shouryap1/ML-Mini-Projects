{
 "cells": [
  {
   "cell_type": "markdown",
   "id": "df4e9e82",
   "metadata": {},
   "source": [
    "# Importing libraries\n"
   ]
  },
  {
   "cell_type": "code",
   "execution_count": 32,
   "id": "f1b0d816",
   "metadata": {
    "scrolled": true
   },
   "outputs": [],
   "source": [
    "import tensorflow as tf\n",
    "from tensorflow import keras\n",
    "import matplotlib.pyplot as plt\n",
    "import numpy as np"
   ]
  },
  {
   "cell_type": "markdown",
   "id": "1a90ae9c",
   "metadata": {},
   "source": [
    "#  Loading data"
   ]
  },
  {
   "cell_type": "code",
   "execution_count": 33,
   "id": "fdc8c18e",
   "metadata": {},
   "outputs": [],
   "source": [
    "(X_train, y_train),(X_test, y_test)= keras.datasets.mnist.load_data()"
   ]
  },
  {
   "cell_type": "code",
   "execution_count": 34,
   "id": "cceb11e1",
   "metadata": {},
   "outputs": [
    {
     "data": {
      "text/plain": [
       "60000"
      ]
     },
     "execution_count": 34,
     "metadata": {},
     "output_type": "execute_result"
    }
   ],
   "source": [
    "len(X_train)"
   ]
  },
  {
   "cell_type": "code",
   "execution_count": 35,
   "id": "cbec4ebd",
   "metadata": {},
   "outputs": [
    {
     "data": {
      "text/plain": [
       "10000"
      ]
     },
     "execution_count": 35,
     "metadata": {},
     "output_type": "execute_result"
    }
   ],
   "source": [
    "len(X_test)"
   ]
  },
  {
   "cell_type": "code",
   "execution_count": 36,
   "id": "4dc09a99",
   "metadata": {},
   "outputs": [
    {
     "data": {
      "text/plain": [
       "array([5, 0, 4, ..., 5, 6, 8], dtype=uint8)"
      ]
     },
     "execution_count": 36,
     "metadata": {},
     "output_type": "execute_result"
    }
   ],
   "source": [
    "y_train"
   ]
  },
  {
   "cell_type": "code",
   "execution_count": 37,
   "id": "1d17737e",
   "metadata": {},
   "outputs": [
    {
     "data": {
      "text/plain": [
       "(28, 28)"
      ]
     },
     "execution_count": 37,
     "metadata": {},
     "output_type": "execute_result"
    }
   ],
   "source": [
    "X_train[0].shape\n"
   ]
  },
  {
   "cell_type": "code",
   "execution_count": 38,
   "id": "f746b22d",
   "metadata": {},
   "outputs": [
    {
     "data": {
      "text/plain": [
       "array([[  0,   0,   0,   0,   0,   0,   0,   0,   0,   0,   0,   0,   0,\n",
       "          0,   0,   0,   0,   0,   0,   0,   0,   0,   0,   0,   0,   0,\n",
       "          0,   0],\n",
       "       [  0,   0,   0,   0,   0,   0,   0,   0,   0,   0,   0,   0,   0,\n",
       "          0,   0,   0,   0,   0,   0,   0,   0,   0,   0,   0,   0,   0,\n",
       "          0,   0],\n",
       "       [  0,   0,   0,   0,   0,   0,   0,   0,   0,   0,   0,   0,   0,\n",
       "          0,   0,   0,   0,   0,   0,   0,   0,   0,   0,   0,   0,   0,\n",
       "          0,   0],\n",
       "       [  0,   0,   0,   0,   0,   0,   0,   0,   0,   0,   0,   0,   0,\n",
       "          0,   0,   0,   0,   0,   0,   0,   0,   0,   0,   0,   0,   0,\n",
       "          0,   0],\n",
       "       [  0,   0,   0,   0,   0,   0,   0,   0,   0,   0,   0,   0,   0,\n",
       "          0,   0,   0,   0,   0,   0,   0,   0,   0,   0,   0,   0,   0,\n",
       "          0,   0],\n",
       "       [  0,   0,   0,   0,   0,   0,   0,   0,   0,   0,   0,   0,   3,\n",
       "         18,  18,  18, 126, 136, 175,  26, 166, 255, 247, 127,   0,   0,\n",
       "          0,   0],\n",
       "       [  0,   0,   0,   0,   0,   0,   0,   0,  30,  36,  94, 154, 170,\n",
       "        253, 253, 253, 253, 253, 225, 172, 253, 242, 195,  64,   0,   0,\n",
       "          0,   0],\n",
       "       [  0,   0,   0,   0,   0,   0,   0,  49, 238, 253, 253, 253, 253,\n",
       "        253, 253, 253, 253, 251,  93,  82,  82,  56,  39,   0,   0,   0,\n",
       "          0,   0],\n",
       "       [  0,   0,   0,   0,   0,   0,   0,  18, 219, 253, 253, 253, 253,\n",
       "        253, 198, 182, 247, 241,   0,   0,   0,   0,   0,   0,   0,   0,\n",
       "          0,   0],\n",
       "       [  0,   0,   0,   0,   0,   0,   0,   0,  80, 156, 107, 253, 253,\n",
       "        205,  11,   0,  43, 154,   0,   0,   0,   0,   0,   0,   0,   0,\n",
       "          0,   0],\n",
       "       [  0,   0,   0,   0,   0,   0,   0,   0,   0,  14,   1, 154, 253,\n",
       "         90,   0,   0,   0,   0,   0,   0,   0,   0,   0,   0,   0,   0,\n",
       "          0,   0],\n",
       "       [  0,   0,   0,   0,   0,   0,   0,   0,   0,   0,   0, 139, 253,\n",
       "        190,   2,   0,   0,   0,   0,   0,   0,   0,   0,   0,   0,   0,\n",
       "          0,   0],\n",
       "       [  0,   0,   0,   0,   0,   0,   0,   0,   0,   0,   0,  11, 190,\n",
       "        253,  70,   0,   0,   0,   0,   0,   0,   0,   0,   0,   0,   0,\n",
       "          0,   0],\n",
       "       [  0,   0,   0,   0,   0,   0,   0,   0,   0,   0,   0,   0,  35,\n",
       "        241, 225, 160, 108,   1,   0,   0,   0,   0,   0,   0,   0,   0,\n",
       "          0,   0],\n",
       "       [  0,   0,   0,   0,   0,   0,   0,   0,   0,   0,   0,   0,   0,\n",
       "         81, 240, 253, 253, 119,  25,   0,   0,   0,   0,   0,   0,   0,\n",
       "          0,   0],\n",
       "       [  0,   0,   0,   0,   0,   0,   0,   0,   0,   0,   0,   0,   0,\n",
       "          0,  45, 186, 253, 253, 150,  27,   0,   0,   0,   0,   0,   0,\n",
       "          0,   0],\n",
       "       [  0,   0,   0,   0,   0,   0,   0,   0,   0,   0,   0,   0,   0,\n",
       "          0,   0,  16,  93, 252, 253, 187,   0,   0,   0,   0,   0,   0,\n",
       "          0,   0],\n",
       "       [  0,   0,   0,   0,   0,   0,   0,   0,   0,   0,   0,   0,   0,\n",
       "          0,   0,   0,   0, 249, 253, 249,  64,   0,   0,   0,   0,   0,\n",
       "          0,   0],\n",
       "       [  0,   0,   0,   0,   0,   0,   0,   0,   0,   0,   0,   0,   0,\n",
       "          0,  46, 130, 183, 253, 253, 207,   2,   0,   0,   0,   0,   0,\n",
       "          0,   0],\n",
       "       [  0,   0,   0,   0,   0,   0,   0,   0,   0,   0,   0,   0,  39,\n",
       "        148, 229, 253, 253, 253, 250, 182,   0,   0,   0,   0,   0,   0,\n",
       "          0,   0],\n",
       "       [  0,   0,   0,   0,   0,   0,   0,   0,   0,   0,  24, 114, 221,\n",
       "        253, 253, 253, 253, 201,  78,   0,   0,   0,   0,   0,   0,   0,\n",
       "          0,   0],\n",
       "       [  0,   0,   0,   0,   0,   0,   0,   0,  23,  66, 213, 253, 253,\n",
       "        253, 253, 198,  81,   2,   0,   0,   0,   0,   0,   0,   0,   0,\n",
       "          0,   0],\n",
       "       [  0,   0,   0,   0,   0,   0,  18, 171, 219, 253, 253, 253, 253,\n",
       "        195,  80,   9,   0,   0,   0,   0,   0,   0,   0,   0,   0,   0,\n",
       "          0,   0],\n",
       "       [  0,   0,   0,   0,  55, 172, 226, 253, 253, 253, 253, 244, 133,\n",
       "         11,   0,   0,   0,   0,   0,   0,   0,   0,   0,   0,   0,   0,\n",
       "          0,   0],\n",
       "       [  0,   0,   0,   0, 136, 253, 253, 253, 212, 135, 132,  16,   0,\n",
       "          0,   0,   0,   0,   0,   0,   0,   0,   0,   0,   0,   0,   0,\n",
       "          0,   0],\n",
       "       [  0,   0,   0,   0,   0,   0,   0,   0,   0,   0,   0,   0,   0,\n",
       "          0,   0,   0,   0,   0,   0,   0,   0,   0,   0,   0,   0,   0,\n",
       "          0,   0],\n",
       "       [  0,   0,   0,   0,   0,   0,   0,   0,   0,   0,   0,   0,   0,\n",
       "          0,   0,   0,   0,   0,   0,   0,   0,   0,   0,   0,   0,   0,\n",
       "          0,   0],\n",
       "       [  0,   0,   0,   0,   0,   0,   0,   0,   0,   0,   0,   0,   0,\n",
       "          0,   0,   0,   0,   0,   0,   0,   0,   0,   0,   0,   0,   0,\n",
       "          0,   0]], dtype=uint8)"
      ]
     },
     "execution_count": 38,
     "metadata": {},
     "output_type": "execute_result"
    }
   ],
   "source": [
    "X_train[0]"
   ]
  },
  {
   "cell_type": "code",
   "execution_count": 39,
   "id": "9cb80366",
   "metadata": {},
   "outputs": [
    {
     "data": {
      "text/plain": [
       "<matplotlib.image.AxesImage at 0x7f6448734310>"
      ]
     },
     "execution_count": 39,
     "metadata": {},
     "output_type": "execute_result"
    },
    {
     "data": {
      "image/png": "[encoded data removed]",
      "text/plain": [
       "<Figure size 288x288 with 1 Axes>"
      ]
     },
     "metadata": {
      "needs_background": "light"
     },
     "output_type": "display_data"
    }
   ],
   "source": [
    "plt.matshow(X_train[200])"
   ]
  },
  {
   "cell_type": "code",
   "execution_count": 40,
   "id": "7ccd9eb0",
   "metadata": {},
   "outputs": [],
   "source": [
    "y_train[200]\n",
    "X_train=X_train/255                           #BROUGHT VALUE OF GREY SCALE OF ALL THE PIXELS BETWEEN 0 AND 1\n",
    "X_test=X_test/255"
   ]
  },
  {
   "cell_type": "code",
   "execution_count": 41,
   "id": "933d272d",
   "metadata": {},
   "outputs": [
    {
     "data": {
      "text/plain": [
       "(10000, 784)"
      ]
     },
     "execution_count": 41,
     "metadata": {},
     "output_type": "execute_result"
    }
   ],
   "source": [
    "X_train_flattened=X_train.reshape(len(X_train),28*28)           #RESHAPED THE PIXELS FROM 28X28 FOR USAGE IN LAYERS OF MODEL\n",
    "X_test_flattened=X_test.reshape(len(X_test),28*28)\n",
    "\n",
    "X_train_flattened.shape\n",
    "X_test_flattened.shape"
   ]
  },
  {
   "cell_type": "code",
   "execution_count": 42,
   "id": "7105b532",
   "metadata": {},
   "outputs": [
    {
     "data": {
      "text/plain": [
       "array([[0., 0., 0., ..., 0., 0., 0.],\n",
       "       [0., 0., 0., ..., 0., 0., 0.],\n",
       "       [0., 0., 0., ..., 0., 0., 0.],\n",
       "       ...,\n",
       "       [0., 0., 0., ..., 0., 0., 0.],\n",
       "       [0., 0., 0., ..., 0., 0., 0.],\n",
       "       [0., 0., 0., ..., 0., 0., 0.]])"
      ]
     },
     "execution_count": 42,
     "metadata": {},
     "output_type": "execute_result"
    }
   ],
   "source": [
    "X_test_flattened"
   ]
  },
  {
   "cell_type": "markdown",
   "id": "bc257db8",
   "metadata": {},
   "source": [
    "# Different Models"
   ]
  },
  {
   "cell_type": "code",
   "execution_count": 43,
   "id": "cb8cde3b",
   "metadata": {},
   "outputs": [
    {
     "name": "stdout",
     "output_type": "stream",
     "text": [
      "Epoch 1/5\n",
      "1875/1875 [==============================] - 1s 683us/step - loss: 0.8272 - accuracy: 0.8266\n",
      "Epoch 2/5\n",
      "1875/1875 [==============================] - 1s 731us/step - loss: 0.3457 - accuracy: 0.9109\n",
      "Epoch 3/5\n",
      "1875/1875 [==============================] - 2s 827us/step - loss: 0.2787 - accuracy: 0.9230\n",
      "Epoch 4/5\n",
      "1875/1875 [==============================] - 1s 784us/step - loss: 0.2483 - accuracy: 0.9300\n",
      "Epoch 5/5\n",
      "1875/1875 [==============================] - 1s 738us/step - loss: 0.2300 - accuracy: 0.9353\n"
     ]
    },
    {
     "data": {
      "text/plain": [
       "<keras.callbacks.History at 0x7f644818bbe0>"
      ]
     },
     "execution_count": 43,
     "metadata": {},
     "output_type": "execute_result"
    }
   ],
   "source": [
    "model1=keras.Sequential([\n",
    "        keras.layers.Dense(15,activation=\"sigmoid\"),\n",
    "    keras.layers.Dense(10,activation=\"sigmoid\")\n",
    "        \n",
    "])\n",
    "model1.compile(\n",
    "    optimizer=\"adam\",\n",
    "    loss=\"sparse_categorical_crossentropy\",\n",
    "    metrics=['accuracy']\n",
    ")\n",
    "model1.fit(X_train_flattened,y_train, epochs=5)"
   ]
  },
  {
   "cell_type": "code",
   "execution_count": 44,
   "id": "e05b066a",
   "metadata": {},
   "outputs": [
    {
     "name": "stdout",
     "output_type": "stream",
     "text": [
      "Epoch 1/5\n",
      "1875/1875 [==============================] - 1s 678us/step - loss: 0.8050 - accuracy: 0.8304\n",
      "Epoch 2/5\n",
      "1875/1875 [==============================] - 1s 688us/step - loss: 0.3412 - accuracy: 0.9095\n",
      "Epoch 3/5\n",
      "1875/1875 [==============================] - 1s 695us/step - loss: 0.2774 - accuracy: 0.9237\n",
      "Epoch 4/5\n",
      "1875/1875 [==============================] - 1s 688us/step - loss: 0.2475 - accuracy: 0.9308\n",
      "Epoch 5/5\n",
      "1875/1875 [==============================] - 1s 686us/step - loss: 0.2280 - accuracy: 0.9357\n"
     ]
    },
    {
     "data": {
      "text/plain": [
       "<keras.callbacks.History at 0x7f640bfd9c30>"
      ]
     },
     "execution_count": 44,
     "metadata": {},
     "output_type": "execute_result"
    }
   ],
   "source": [
    "model2=keras.Sequential([\n",
    "        keras.layers.Dense(15,activation=\"sigmoid\"),\n",
    "    keras.layers.Dense(10,activation=\"softmax\")\n",
    "        \n",
    "])\n",
    "model2.compile(\n",
    "    optimizer=\"adam\",\n",
    "    loss=\"sparse_categorical_crossentropy\",\n",
    "    metrics=['accuracy']\n",
    ")\n",
    "model2.fit(X_train_flattened,y_train, epochs=5)"
   ]
  },
  {
   "cell_type": "code",
   "execution_count": 45,
   "id": "183b1447",
   "metadata": {},
   "outputs": [
    {
     "name": "stdout",
     "output_type": "stream",
     "text": [
      "Epoch 1/5\n",
      "1875/1875 [==============================] - 1s 681us/step - loss: 27.3046 - accuracy: 0.0912\n",
      "Epoch 2/5\n",
      "1875/1875 [==============================] - 1s 683us/step - loss: 27.3046 - accuracy: 0.0927\n",
      "Epoch 3/5\n",
      "1875/1875 [==============================] - 1s 771us/step - loss: 27.3046 - accuracy: 0.0918\n",
      "Epoch 4/5\n",
      "1875/1875 [==============================] - 1s 685us/step - loss: 27.3046 - accuracy: 0.0928\n",
      "Epoch 5/5\n",
      "1875/1875 [==============================] - 1s 676us/step - loss: 27.3046 - accuracy: 0.0927\n"
     ]
    },
    {
     "data": {
      "text/plain": [
       "<keras.callbacks.History at 0x7f640bfcffa0>"
      ]
     },
     "execution_count": 45,
     "metadata": {},
     "output_type": "execute_result"
    }
   ],
   "source": [
    "model4=keras.Sequential([\n",
    "        keras.layers.Dense(15,activation=\"sigmoid\"),\n",
    "    keras.layers.Dense(10,activation=\"softmax\")\n",
    "        \n",
    "])\n",
    "model4.compile(\n",
    "    optimizer=\"adam\",\n",
    "    loss=\"mean_squared_error\",\n",
    "    metrics=['accuracy']\n",
    ")\n",
    "model4.fit(X_train_flattened,y_train, epochs=5)"
   ]
  },
  {
   "cell_type": "code",
   "execution_count": 46,
   "id": "dc5aa804",
   "metadata": {},
   "outputs": [
    {
     "name": "stdout",
     "output_type": "stream",
     "text": [
      "Epoch 1/5\n",
      "1875/1875 [==============================] - 2s 709us/step - loss: 4.1569 - accuracy: 0.1844\n",
      "Epoch 2/5\n",
      "1875/1875 [==============================] - 1s 710us/step - loss: 1.3323 - accuracy: 0.1786\n",
      "Epoch 3/5\n",
      "1875/1875 [==============================] - 1s 709us/step - loss: 1.0939 - accuracy: 0.2089\n",
      "Epoch 4/5\n",
      "1875/1875 [==============================] - 1s 702us/step - loss: 0.9872 - accuracy: 0.2192\n",
      "Epoch 5/5\n",
      "1875/1875 [==============================] - 1s 721us/step - loss: 0.9243 - accuracy: 0.1890\n"
     ]
    },
    {
     "data": {
      "text/plain": [
       "<keras.callbacks.History at 0x7f640bd97c40>"
      ]
     },
     "execution_count": 46,
     "metadata": {},
     "output_type": "execute_result"
    }
   ],
   "source": [
    "model3=keras.Sequential([\n",
    "        keras.layers.Dense(15,activation=\"sigmoid\"),\n",
    "    keras.layers.Dense(12,activation=\"relu\"),\n",
    "    keras.layers.Dense(10,activation=\"linear\")\n",
    "        \n",
    "])\n",
    "model3.compile(\n",
    "    optimizer=\"adam\",\n",
    "    loss=\"mean_squared_error\",\n",
    "    metrics=['accuracy']\n",
    ")\n",
    "model3.fit(X_train_flattened,y_train, epochs=5)"
   ]
  },
  {
   "cell_type": "code",
   "execution_count": 47,
   "id": "fe77e97b",
   "metadata": {},
   "outputs": [
    {
     "name": "stdout",
     "output_type": "stream",
     "text": [
      "Epoch 1/10\n",
      "1875/1875 [==============================] - 2s 786us/step - loss: 0.4423 - accuracy: 0.8708\n",
      "Epoch 2/10\n",
      "1875/1875 [==============================] - 1s 790us/step - loss: 0.2044 - accuracy: 0.9409\n",
      "Epoch 3/10\n",
      "1875/1875 [==============================] - 1s 764us/step - loss: 0.1654 - accuracy: 0.9525\n",
      "Epoch 4/10\n",
      "1875/1875 [==============================] - 1s 768us/step - loss: 0.1446 - accuracy: 0.9576\n",
      "Epoch 5/10\n",
      "1875/1875 [==============================] - 2s 889us/step - loss: 0.1300 - accuracy: 0.9606\n",
      "Epoch 6/10\n",
      "1875/1875 [==============================] - 2s 827us/step - loss: 0.1178 - accuracy: 0.9649\n",
      "Epoch 7/10\n",
      "1875/1875 [==============================] - 1s 774us/step - loss: 0.1096 - accuracy: 0.9669\n",
      "Epoch 8/10\n",
      "1875/1875 [==============================] - 1s 789us/step - loss: 0.1009 - accuracy: 0.9693\n",
      "Epoch 9/10\n",
      "1875/1875 [==============================] - 1s 792us/step - loss: 0.0954 - accuracy: 0.9705\n",
      "Epoch 10/10\n",
      "1875/1875 [==============================] - 1s 792us/step - loss: 0.0894 - accuracy: 0.9719\n"
     ]
    },
    {
     "data": {
      "text/plain": [
       "<keras.callbacks.History at 0x7f640bc483a0>"
      ]
     },
     "execution_count": 47,
     "metadata": {},
     "output_type": "execute_result"
    }
   ],
   "source": [
    "model5=keras.Sequential([\n",
    "        keras.layers.Dense(25,activation=\"relu\"),\n",
    "        keras.layers.Dense(15,activation=\"relu\"),\n",
    "#             keras.layers.Dense(10,activation=\"relu\"),\n",
    "\n",
    "\n",
    "    keras.layers.Dense(10,activation=\"Softmax\")\n",
    "])\n",
    "model5.compile(\n",
    "    optimizer=\"adam\",\n",
    "    loss=\"sparse_categorical_crossentropy\",\n",
    "    metrics=['accuracy']\n",
    ")\n",
    "model5.fit(X_train_flattened,y_train, epochs=10)"
   ]
  },
  {
   "cell_type": "markdown",
   "id": "17cbd4fd",
   "metadata": {},
   "source": [
    "# Predicting answer using all the models"
   ]
  },
  {
   "cell_type": "code",
   "execution_count": 62,
   "id": "9b817b2f",
   "metadata": {},
   "outputs": [
    {
     "data": {
      "text/plain": [
       "<matplotlib.image.AxesImage at 0x7f640b9ac6d0>"
      ]
     },
     "execution_count": 62,
     "metadata": {},
     "output_type": "execute_result"
    },
    {
     "data": {
      "image/png": "[encoded data removed]",
      "text/plain": [
       "<Figure size 288x288 with 1 Axes>"
      ]
     },
     "metadata": {
      "needs_background": "light"
     },
     "output_type": "display_data"
    }
   ],
   "source": [
    "plt.matshow(X_test[2306])"
   ]
  },
  {
   "cell_type": "code",
   "execution_count": 49,
   "id": "fbd5edfc",
   "metadata": {},
   "outputs": [
    {
     "data": {
      "text/plain": [
       "4"
      ]
     },
     "execution_count": 49,
     "metadata": {},
     "output_type": "execute_result"
    }
   ],
   "source": [
    "y_test[2306]"
   ]
  },
  {
   "cell_type": "code",
   "execution_count": 50,
   "id": "656f7f90",
   "metadata": {},
   "outputs": [
    {
     "name": "stdout",
     "output_type": "stream",
     "text": [
      "313/313 [==============================] - 0s 496us/step\n"
     ]
    },
    {
     "data": {
      "text/plain": [
       "4"
      ]
     },
     "execution_count": 50,
     "metadata": {},
     "output_type": "execute_result"
    }
   ],
   "source": [
    "a=model1.predict(X_test_flattened)\n",
    "\n",
    "np.argmax(a[2306])        "
   ]
  },
  {
   "cell_type": "code",
   "execution_count": 51,
   "id": "650fccbd",
   "metadata": {},
   "outputs": [
    {
     "name": "stdout",
     "output_type": "stream",
     "text": [
      "313/313 [==============================] - 0s 486us/step\n"
     ]
    },
    {
     "data": {
      "text/plain": [
       "4"
      ]
     },
     "execution_count": 51,
     "metadata": {},
     "output_type": "execute_result"
    }
   ],
   "source": [
    "a=model2.predict(X_test_flattened)\n",
    "\n",
    "np.argmax(a[2306])        "
   ]
  },
  {
   "cell_type": "code",
   "execution_count": 52,
   "id": "ce030938",
   "metadata": {},
   "outputs": [
    {
     "name": "stdout",
     "output_type": "stream",
     "text": [
      "313/313 [==============================] - 0s 476us/step\n"
     ]
    },
    {
     "data": {
      "text/plain": [
       "4"
      ]
     },
     "execution_count": 52,
     "metadata": {},
     "output_type": "execute_result"
    }
   ],
   "source": [
    "a=model3.predict(X_test_flattened)\n",
    "\n",
    "np.argmax(a[2306])        "
   ]
  },
  {
   "cell_type": "code",
   "execution_count": 53,
   "id": "1788dce1",
   "metadata": {},
   "outputs": [
    {
     "name": "stdout",
     "output_type": "stream",
     "text": [
      "313/313 [==============================] - 0s 451us/step\n"
     ]
    },
    {
     "data": {
      "text/plain": [
       "6"
      ]
     },
     "execution_count": 53,
     "metadata": {},
     "output_type": "execute_result"
    }
   ],
   "source": [
    "a=model4.predict(X_test_flattened)\n",
    "\n",
    "np.argmax(a[2306])        "
   ]
  },
  {
   "cell_type": "code",
   "execution_count": 61,
   "id": "48be56a2",
   "metadata": {},
   "outputs": [
    {
     "name": "stdout",
     "output_type": "stream",
     "text": [
      "313/313 [==============================] - 0s 492us/step\n"
     ]
    },
    {
     "data": {
      "text/plain": [
       "4"
      ]
     },
     "execution_count": 61,
     "metadata": {},
     "output_type": "execute_result"
    }
   ],
   "source": [
    "a=model5.predict(X_test_flattened)\n",
    "\n",
    "np.argmax(a[2306])"
   ]
  },
  {
   "cell_type": "markdown",
   "id": "585d7c3b",
   "metadata": {},
   "source": [
    "# CUSTOM INPUT "
   ]
  },
  {
   "cell_type": "code",
   "execution_count": 55,
   "id": "f4e45eb7",
   "metadata": {},
   "outputs": [
    {
     "data": {
      "text/plain": [
       "<matplotlib.image.AxesImage at 0x7f640bbfa830>"
      ]
     },
     "execution_count": 55,
     "metadata": {},
     "output_type": "execute_result"
    },
    {
     "data": {
      "image/png": "[encoded data removed]",
      "text/plain": [
       "<Figure size 432x288 with 1 Axes>"
      ]
     },
     "metadata": {
      "needs_background": "light"
     },
     "output_type": "display_data"
    }
   ],
   "source": [
    "import numpy as np\n",
    "from PIL import Image\n",
    "from matplotlib import pyplot as plt\n",
    "\n",
    "filename = 'Screenshot from 2022-09-07 22-26-08'           #REPLACE THE FILE NAME OF RESIZED IMAGE\n",
    "\n",
    "img = Image.open( filename + '.jpg' )                      #MAKE SURE FILE IS .jpg ,IF IT IS .png THEN DO MAKE THE SUITABLE CAHNGES IN THIS LINE.\n",
    "data = np.array( img, dtype='float64' )\n",
    "\n",
    "np.save( filename + '.npy', data)\n",
    "\n",
    "# visually testing our output\n",
    "i2 = np.load(filename + '.npy')\n",
    "plt.imshow(i2) "
   ]
  },
  {
   "cell_type": "code",
   "execution_count": 56,
   "id": "dda6957e",
   "metadata": {},
   "outputs": [],
   "source": [
    "i2=i2/255"
   ]
  },
  {
   "cell_type": "code",
   "execution_count": 57,
   "id": "fda70250",
   "metadata": {},
   "outputs": [
    {
     "data": {
      "text/plain": [
       "array([[0.10196078, 0.10196078, 0.10196078, 0.10196078, 0.10196078,\n",
       "        0.10196078, 0.10196078, 0.10196078, 0.10588235, 0.10196078,\n",
       "        0.09019608, 0.10980392, 0.10196078, 0.10196078, 0.09411765,\n",
       "        0.10588235, 0.11764706, 0.08627451, 0.09803922, 0.09803922,\n",
       "        0.11372549, 0.09803922, 0.10588235, 0.10980392, 0.10196078,\n",
       "        0.10196078, 0.10196078, 0.10196078],\n",
       "       [0.10196078, 0.10196078, 0.10196078, 0.10196078, 0.10196078,\n",
       "        0.10196078, 0.10196078, 0.10196078, 0.10588235, 0.09411765,\n",
       "        0.09803922, 0.12156863, 0.08627451, 0.09411765, 0.12941176,\n",
       "        0.08627451, 0.08235294, 0.10980392, 0.12156863, 0.09803922,\n",
       "        0.09803922, 0.09803922, 0.10196078, 0.09019608, 0.10196078,\n",
       "        0.10196078, 0.10196078, 0.10196078],\n",
       "       [0.10196078, 0.10196078, 0.10196078, 0.10196078, 0.10196078,\n",
       "        0.10196078, 0.10196078, 0.10196078, 0.11764706, 0.09803922,\n",
       "        0.09019608, 0.10196078, 0.11764706, 0.09803922, 0.09019608,\n",
       "        0.11764706, 0.09411765, 0.10588235, 0.08627451, 0.09411765,\n",
       "        0.10588235, 0.10588235, 0.10980392, 0.11372549, 0.10196078,\n",
       "        0.10196078, 0.10196078, 0.10196078],\n",
       "       [0.10196078, 0.10196078, 0.10196078, 0.10196078, 0.10196078,\n",
       "        0.10196078, 0.10196078, 0.10196078, 0.09019608, 0.09019608,\n",
       "        0.12941176, 0.07843137, 0.08627451, 0.12156863, 0.09019608,\n",
       "        0.09019608, 0.10980392, 0.10588235, 0.09019608, 0.10588235,\n",
       "        0.10588235, 0.09803922, 0.09411765, 0.10196078, 0.10196078,\n",
       "        0.10196078, 0.10196078, 0.10196078],\n",
       "       [0.10196078, 0.10196078, 0.10196078, 0.10196078, 0.10196078,\n",
       "        0.10196078, 0.10196078, 0.10196078, 0.10980392, 0.09803922,\n",
       "        0.15294118, 0.20392157, 0.20784314, 0.2       , 0.17647059,\n",
       "        0.15686275, 0.09019608, 0.08235294, 0.11764706, 0.10980392,\n",
       "        0.09019608, 0.10196078, 0.10588235, 0.09019608, 0.10196078,\n",
       "        0.10196078, 0.10196078, 0.10196078],\n",
       "       [0.10196078, 0.10196078, 0.10196078, 0.10196078, 0.10196078,\n",
       "        0.10196078, 0.10196078, 0.10196078, 0.18823529, 0.54901961,\n",
       "        0.75686275, 0.84313725, 0.81960784, 0.82745098, 0.81176471,\n",
       "        0.69411765, 0.27058824, 0.07843137, 0.09411765, 0.10588235,\n",
       "        0.09411765, 0.10588235, 0.11764706, 0.10588235, 0.10196078,\n",
       "        0.10196078, 0.10196078, 0.10196078],\n",
       "       [0.10196078, 0.10196078, 0.10196078, 0.10196078, 0.10196078,\n",
       "        0.10196078, 0.10196078, 0.10196078, 0.21960784, 0.6       ,\n",
       "        0.45490196, 0.27058824, 0.28235294, 0.2627451 , 0.30980392,\n",
       "        0.64705882, 0.61176471, 0.14901961, 0.08235294, 0.10196078,\n",
       "        0.10980392, 0.09019608, 0.09411765, 0.09411765, 0.10196078,\n",
       "        0.10196078, 0.10196078, 0.10196078],\n",
       "       [0.10196078, 0.10196078, 0.10196078, 0.10196078, 0.10196078,\n",
       "        0.10196078, 0.10196078, 0.10196078, 0.09411765, 0.09803922,\n",
       "        0.08235294, 0.09803922, 0.07843137, 0.10980392, 0.07058824,\n",
       "        0.25882353, 0.77647059, 0.19607843, 0.10196078, 0.09803922,\n",
       "        0.10980392, 0.10196078, 0.10980392, 0.09803922, 0.10196078,\n",
       "        0.10196078, 0.10196078, 0.10196078],\n",
       "       [0.10196078, 0.10196078, 0.10196078, 0.10196078, 0.10196078,\n",
       "        0.10196078, 0.10196078, 0.10196078, 0.10980392, 0.09803922,\n",
       "        0.09411765, 0.10980392, 0.10196078, 0.11372549, 0.08627451,\n",
       "        0.15686275, 0.74901961, 0.29803922, 0.09411765, 0.09019608,\n",
       "        0.10196078, 0.10588235, 0.12156863, 0.09411765, 0.10196078,\n",
       "        0.10196078, 0.10196078, 0.10196078],\n",
       "       [0.10196078, 0.10196078, 0.10196078, 0.10196078, 0.10196078,\n",
       "        0.10196078, 0.10196078, 0.10196078, 0.09019608, 0.11372549,\n",
       "        0.10588235, 0.10588235, 0.09019608, 0.10196078, 0.09411765,\n",
       "        0.17647059, 0.78039216, 0.25098039, 0.10196078, 0.10980392,\n",
       "        0.11372549, 0.07843137, 0.08235294, 0.11764706, 0.10196078,\n",
       "        0.10196078, 0.10196078, 0.10196078],\n",
       "       [0.10196078, 0.10196078, 0.10196078, 0.10196078, 0.10196078,\n",
       "        0.10196078, 0.10196078, 0.10196078, 0.10588235, 0.10980392,\n",
       "        0.09411765, 0.10980392, 0.10196078, 0.09411765, 0.09803922,\n",
       "        0.33333333, 0.75294118, 0.17254902, 0.09411765, 0.09019608,\n",
       "        0.10588235, 0.11764706, 0.11764706, 0.09019608, 0.10196078,\n",
       "        0.10196078, 0.10196078, 0.10196078],\n",
       "       [0.10196078, 0.10196078, 0.10196078, 0.10196078, 0.10196078,\n",
       "        0.10196078, 0.10196078, 0.10196078, 0.10196078, 0.09411765,\n",
       "        0.08235294, 0.09803922, 0.10588235, 0.09803922, 0.08235294,\n",
       "        0.54117647, 0.61176471, 0.09411765, 0.09803922, 0.10980392,\n",
       "        0.08627451, 0.08235294, 0.11764706, 0.08627451, 0.10196078,\n",
       "        0.10196078, 0.10196078, 0.10196078],\n",
       "       [0.10196078, 0.10196078, 0.10196078, 0.10196078, 0.10196078,\n",
       "        0.10196078, 0.10196078, 0.10196078, 0.09803922, 0.10588235,\n",
       "        0.11372549, 0.10196078, 0.10196078, 0.10980392, 0.13333333,\n",
       "        0.7254902 , 0.38039216, 0.09411765, 0.10588235, 0.10196078,\n",
       "        0.10196078, 0.10196078, 0.1254902 , 0.09803922, 0.10196078,\n",
       "        0.10196078, 0.10196078, 0.10196078],\n",
       "       [0.10196078, 0.10196078, 0.10196078, 0.10196078, 0.10196078,\n",
       "        0.10196078, 0.10196078, 0.10196078, 0.11372549, 0.09019608,\n",
       "        0.10588235, 0.10196078, 0.08627451, 0.09019608, 0.29803922,\n",
       "        0.78431373, 0.18431373, 0.11372549, 0.09411765, 0.08627451,\n",
       "        0.10588235, 0.10196078, 0.08235294, 0.09803922, 0.10196078,\n",
       "        0.10196078, 0.10196078, 0.10196078],\n",
       "       [0.10196078, 0.10196078, 0.10196078, 0.10196078, 0.10196078,\n",
       "        0.10196078, 0.10196078, 0.10196078, 0.11372549, 0.08627451,\n",
       "        0.09411765, 0.10588235, 0.07843137, 0.10980392, 0.54509804,\n",
       "        0.59607843, 0.10588235, 0.09019608, 0.09803922, 0.1254902 ,\n",
       "        0.08627451, 0.13333333, 0.10980392, 0.10588235, 0.10196078,\n",
       "        0.10196078, 0.10196078, 0.10196078],\n",
       "       [0.10196078, 0.10196078, 0.10196078, 0.10196078, 0.10196078,\n",
       "        0.10196078, 0.10196078, 0.10196078, 0.10980392, 0.16470588,\n",
       "        0.17647059, 0.14509804, 0.12156863, 0.21960784, 0.78039216,\n",
       "        0.33333333, 0.09019608, 0.09411765, 0.10980392, 0.09803922,\n",
       "        0.10196078, 0.43921569, 0.39215686, 0.09411765, 0.10196078,\n",
       "        0.10196078, 0.10196078, 0.10196078],\n",
       "       [0.10196078, 0.10196078, 0.10196078, 0.09803922, 0.09411765,\n",
       "        0.09803922, 0.10196078, 0.10588235, 0.49411765, 0.79607843,\n",
       "        0.80392157, 0.79215686, 0.69803922, 0.7372549 , 0.74901961,\n",
       "        0.19607843, 0.10980392, 0.09803922, 0.08235294, 0.07843137,\n",
       "        0.19607843, 0.69803922, 0.57647059, 0.10196078, 0.10196078,\n",
       "        0.10196078, 0.10196078, 0.10196078],\n",
       "       [0.09803922, 0.10196078, 0.10196078, 0.10196078, 0.10196078,\n",
       "        0.10588235, 0.10980392, 0.11764706, 0.7372549 , 0.51764706,\n",
       "        0.29803922, 0.37647059, 0.59215686, 0.94509804, 0.84705882,\n",
       "        0.78039216, 0.72156863, 0.63921569, 0.57647059, 0.63137255,\n",
       "        0.78039216, 0.72941176, 0.26666667, 0.09019608, 0.10196078,\n",
       "        0.10196078, 0.10196078, 0.10196078],\n",
       "       [0.09803922, 0.10196078, 0.10196078, 0.10196078, 0.10196078,\n",
       "        0.10588235, 0.11372549, 0.11764706, 0.68627451, 0.36470588,\n",
       "        0.05490196, 0.1254902 , 0.65490196, 0.60784314, 0.21960784,\n",
       "        0.34117647, 0.4745098 , 0.55294118, 0.63529412, 0.60392157,\n",
       "        0.38431373, 0.15686275, 0.10196078, 0.07843137, 0.10196078,\n",
       "        0.10196078, 0.10196078, 0.10196078],\n",
       "       [0.10196078, 0.10196078, 0.10196078, 0.10196078, 0.09803922,\n",
       "        0.09803922, 0.10196078, 0.10196078, 0.63921569, 0.54117647,\n",
       "        0.32156863, 0.69019608, 0.75294118, 0.21960784, 0.04705882,\n",
       "        0.10196078, 0.09019608, 0.10196078, 0.11372549, 0.08627451,\n",
       "        0.10196078, 0.10196078, 0.09411765, 0.10588235, 0.10196078,\n",
       "        0.10196078, 0.10196078, 0.10196078],\n",
       "       [0.10588235, 0.10588235, 0.10196078, 0.09803922, 0.09803922,\n",
       "        0.09803922, 0.09411765, 0.09411765, 0.36470588, 0.87843137,\n",
       "        0.82745098, 0.58039216, 0.20392157, 0.10980392, 0.10980392,\n",
       "        0.10196078, 0.10196078, 0.08235294, 0.09019608, 0.11372549,\n",
       "        0.09411765, 0.09411765, 0.10196078, 0.10588235, 0.10196078,\n",
       "        0.10196078, 0.10196078, 0.10196078],\n",
       "       [0.10196078, 0.10196078, 0.09803922, 0.10196078, 0.10196078,\n",
       "        0.10196078, 0.10196078, 0.09803922, 0.13333333, 0.25098039,\n",
       "        0.19215686, 0.12156863, 0.09019608, 0.08627451, 0.10980392,\n",
       "        0.09803922, 0.09019608, 0.1372549 , 0.08235294, 0.11372549,\n",
       "        0.09803922, 0.09019608, 0.11372549, 0.08627451, 0.10196078,\n",
       "        0.10196078, 0.10196078, 0.10196078],\n",
       "       [0.10196078, 0.09803922, 0.09803922, 0.10196078, 0.10588235,\n",
       "        0.10588235, 0.10588235, 0.10196078, 0.09411765, 0.08627451,\n",
       "        0.11764706, 0.09411765, 0.10588235, 0.12156863, 0.08627451,\n",
       "        0.09803922, 0.10588235, 0.08235294, 0.10980392, 0.09803922,\n",
       "        0.09019608, 0.1254902 , 0.08627451, 0.11764706, 0.10196078,\n",
       "        0.10196078, 0.10196078, 0.10196078],\n",
       "       [0.10196078, 0.09803922, 0.09803922, 0.09803922, 0.10196078,\n",
       "        0.10196078, 0.10196078, 0.09803922, 0.11372549, 0.10196078,\n",
       "        0.09803922, 0.07843137, 0.13333333, 0.08627451, 0.10196078,\n",
       "        0.11764706, 0.10196078, 0.10588235, 0.10588235, 0.10196078,\n",
       "        0.10196078, 0.09803922, 0.10196078, 0.10196078, 0.10196078,\n",
       "        0.10196078, 0.10196078, 0.10196078],\n",
       "       [0.10196078, 0.10196078, 0.10196078, 0.10196078, 0.10196078,\n",
       "        0.10196078, 0.10196078, 0.10196078, 0.10196078, 0.10196078,\n",
       "        0.10196078, 0.10196078, 0.10196078, 0.10196078, 0.10196078,\n",
       "        0.10196078, 0.10196078, 0.10196078, 0.10196078, 0.10196078,\n",
       "        0.10196078, 0.10196078, 0.10196078, 0.10196078, 0.10196078,\n",
       "        0.10196078, 0.10196078, 0.10196078],\n",
       "       [0.10196078, 0.10196078, 0.10196078, 0.10196078, 0.10196078,\n",
       "        0.10196078, 0.10196078, 0.10196078, 0.10196078, 0.10196078,\n",
       "        0.10196078, 0.10196078, 0.10196078, 0.10196078, 0.10196078,\n",
       "        0.10196078, 0.10196078, 0.10196078, 0.10196078, 0.10196078,\n",
       "        0.10196078, 0.10196078, 0.10196078, 0.10196078, 0.10196078,\n",
       "        0.10196078, 0.10196078, 0.10196078],\n",
       "       [0.10196078, 0.10196078, 0.10196078, 0.10196078, 0.10196078,\n",
       "        0.10196078, 0.10196078, 0.10196078, 0.10196078, 0.10196078,\n",
       "        0.10196078, 0.10196078, 0.10196078, 0.10196078, 0.10196078,\n",
       "        0.10196078, 0.10196078, 0.10196078, 0.10196078, 0.10196078,\n",
       "        0.10196078, 0.10196078, 0.10196078, 0.10196078, 0.10196078,\n",
       "        0.10196078, 0.10196078, 0.10196078],\n",
       "       [0.10196078, 0.10196078, 0.10196078, 0.10196078, 0.10196078,\n",
       "        0.10196078, 0.10196078, 0.10196078, 0.10196078, 0.10196078,\n",
       "        0.10196078, 0.10196078, 0.10196078, 0.10196078, 0.10196078,\n",
       "        0.10196078, 0.10196078, 0.10196078, 0.10196078, 0.10196078,\n",
       "        0.10196078, 0.10196078, 0.10196078, 0.10196078, 0.10196078,\n",
       "        0.10196078, 0.10196078, 0.10196078]])"
      ]
     },
     "execution_count": 57,
     "metadata": {},
     "output_type": "execute_result"
    }
   ],
   "source": [
    "i2"
   ]
  },
  {
   "cell_type": "code",
   "execution_count": 58,
   "id": "21e808dc",
   "metadata": {},
   "outputs": [],
   "source": [
    "i2_reshaped=i2.reshape(1,784)"
   ]
  },
  {
   "cell_type": "code",
   "execution_count": 59,
   "id": "c5a23153",
   "metadata": {},
   "outputs": [],
   "source": [
    "for i in range(0,784):\n",
    "    if(i2_reshaped[0][i]<0.2):\n",
    "        i2_reshaped[0][i]=0"
   ]
  },
  {
   "cell_type": "code",
   "execution_count": 60,
   "id": "de3cf9e3",
   "metadata": {},
   "outputs": [
    {
     "name": "stdout",
     "output_type": "stream",
     "text": [
      "1/1 [==============================] - 0s 19ms/step\n"
     ]
    },
    {
     "data": {
      "text/plain": [
       "2"
      ]
     },
     "execution_count": 60,
     "metadata": {},
     "output_type": "execute_result"
    }
   ],
   "source": [
    "a=model5.predict(i2_reshaped)\n",
    "\n",
    "np.argmax(a[0])"
   ]
  }
 ],
 "metadata": {
  "kernelspec": {
   "display_name": "Python 3 (ipykernel)",
   "language": "python",
   "name": "python3"
  },
  "language_info": {
   "codemirror_mode": {
    "name": "ipython",
    "version": 3
   },
   "file_extension": ".py",
   "mimetype": "text/x-python",
   "name": "python",
   "nbconvert_exporter": "python",
   "pygments_lexer": "ipython3",
   "version": "3.10.4"
  }
 },
 "nbformat": 4,
 "nbformat_minor": 5
}
