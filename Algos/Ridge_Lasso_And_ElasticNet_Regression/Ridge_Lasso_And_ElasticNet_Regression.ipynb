{
 "cells": [
  {
   "cell_type": "code",
   "execution_count": 2,
   "id": "2586bad4",
   "metadata": {},
   "outputs": [],
   "source": [
    "import numpy as np \n",
    "import pandas as pd\n",
    "import seaborn as sns\n",
    "import tensorflow as tf"
   ]
  },
  {
   "cell_type": "code",
   "execution_count": 3,
   "id": "93ad6bd9",
   "metadata": {},
   "outputs": [],
   "source": [
    "class LinearRegression:\n",
    "    def __init__(self):\n",
    "        self.m=0\n",
    "        self.b=0\n",
    "    \n",
    "    def fit(self,X_train,y_train):\n",
    "        n=0\n",
    "        d=0\n",
    "        \n",
    "        for i in range(X_train.shape[0]):\n",
    "            n=n+((X_train[i]-X_train.mean()))*(y_train[i]-y_train.mean())\n",
    "            d=d+((X_train[i]-X_train.mean()))*(X_train[i]-X_train.mean())\n",
    "        self.m=n/d\n",
    "        self.b=y_train.mean()-(self.m*X_train.mean())\n",
    "        \n",
    "    def predict(self,X_test):\n",
    "        return (self.m * X_test) + (self.b)"
   ]
  },
  {
   "cell_type": "code",
   "execution_count": 4,
   "id": "e73cf449",
   "metadata": {},
   "outputs": [],
   "source": [
    "class RidgeRegression:\n",
    "    def __init__(self):\n",
    "        self.m=0\n",
    "        self.b=0\n",
    "    \n",
    "    def fit(self,X_train,y_train,lambd):\n",
    "        n=0\n",
    "        d=0\n",
    "        \n",
    "        for i in range(X_train.shape[0]):\n",
    "            n=n+((X_train[i]-X_train.mean()))*(y_train[i]-y_train.mean())\n",
    "            d=d+((X_train[i]-X_train.mean()))*(X_train[i]-X_train.mean())\n",
    "        self.m=n/(d-lambd)\n",
    "        self.b=y_train.mean()-(self.m*X_train.mean())\n",
    "        \n",
    "    def predict(self,X_test):\n",
    "        return (self.m * X_test) + (self.b)"
   ]
  },
  {
   "cell_type": "code",
   "execution_count": 56,
   "id": "45441a03",
   "metadata": {},
   "outputs": [],
   "source": [
    "class LassoRegression:\n",
    "    def __init__(self):\n",
    "        self.m=0\n",
    "        self.b=0\n",
    "    \n",
    "    def fit(self,X_train,y_train,lambd):\n",
    "        n=0\n",
    "        d=0\n",
    "        \n",
    "        for i in range(X_train.shape[0]):\n",
    "            n=n+((X_train[i]-X_train.mean()))*(y_train[i]-y_train.mean())\n",
    "            d=d+((X_train[i]-X_train.mean()))*(X_train[i]-X_train.mean())\n",
    "        self.m=(n-lambd)/(d)\n",
    "        self.b=y_train.mean()-(self.m*X_train.mean())\n",
    "        \n",
    "    def predict(self,X_test):\n",
    "        return (self.m * X_test) + (self.b)"
   ]
  },
  {
   "cell_type": "code",
   "execution_count": 74,
   "id": "c21ed391",
   "metadata": {},
   "outputs": [],
   "source": [
    "class ElasticNetRegression:\n",
    "    def __init__(self):\n",
    "        self.m=0\n",
    "        self.b=0\n",
    "    \n",
    "    def fit(self,X_train,y_train,lambd1,lambd2):\n",
    "        n=0\n",
    "        d=0\n",
    "        \n",
    "        for i in range(X_train.shape[0]):\n",
    "            n=n+((X_train[i]-X_train.mean()))*(y_train[i]-y_train.mean())\n",
    "            d=d+((X_train[i]-X_train.mean()))*(X_train[i]-X_train.mean())\n",
    "        self.m=(n-lambd1)/(d-lambd2)\n",
    "        self.b=y_train.mean()-(self.m*X_train.mean())\n",
    "        \n",
    "    def predict(self,X_test):\n",
    "        return (self.m * X_test) + (self.b)"
   ]
  },
  {
   "cell_type": "code",
   "execution_count": 57,
   "id": "c2b65693",
   "metadata": {},
   "outputs": [],
   "source": [
    "df=pd.read_csv(\"placement.csv\")"
   ]
  },
  {
   "cell_type": "code",
   "execution_count": 58,
   "id": "ee7db011",
   "metadata": {},
   "outputs": [
    {
     "data": {
      "text/html": [
       "<div>\n",
       "<style scoped>\n",
       "    .dataframe tbody tr th:only-of-type {\n",
       "        vertical-align: middle;\n",
       "    }\n",
       "\n",
       "    .dataframe tbody tr th {\n",
       "        vertical-align: top;\n",
       "    }\n",
       "\n",
       "    .dataframe thead th {\n",
       "        text-align: right;\n",
       "    }\n",
       "</style>\n",
       "<table border=\"1\" class=\"dataframe\">\n",
       "  <thead>\n",
       "    <tr style=\"text-align: right;\">\n",
       "      <th></th>\n",
       "      <th>cgpa</th>\n",
       "      <th>package</th>\n",
       "    </tr>\n",
       "  </thead>\n",
       "  <tbody>\n",
       "    <tr>\n",
       "      <th>0</th>\n",
       "      <td>6.89</td>\n",
       "      <td>3.26</td>\n",
       "    </tr>\n",
       "    <tr>\n",
       "      <th>1</th>\n",
       "      <td>5.12</td>\n",
       "      <td>1.98</td>\n",
       "    </tr>\n",
       "    <tr>\n",
       "      <th>2</th>\n",
       "      <td>7.82</td>\n",
       "      <td>3.25</td>\n",
       "    </tr>\n",
       "    <tr>\n",
       "      <th>3</th>\n",
       "      <td>7.42</td>\n",
       "      <td>3.67</td>\n",
       "    </tr>\n",
       "    <tr>\n",
       "      <th>4</th>\n",
       "      <td>6.94</td>\n",
       "      <td>3.57</td>\n",
       "    </tr>\n",
       "  </tbody>\n",
       "</table>\n",
       "</div>"
      ],
      "text/plain": [
       "   cgpa  package\n",
       "0  6.89     3.26\n",
       "1  5.12     1.98\n",
       "2  7.82     3.25\n",
       "3  7.42     3.67\n",
       "4  6.94     3.57"
      ]
     },
     "execution_count": 58,
     "metadata": {},
     "output_type": "execute_result"
    }
   ],
   "source": [
    "df.head()"
   ]
  },
  {
   "cell_type": "code",
   "execution_count": 77,
   "id": "7bb31891",
   "metadata": {},
   "outputs": [],
   "source": [
    "lr=LinearRegression()\n",
    "rr=RidgeRegression()\n",
    "lar=LassoRegression()\n",
    "enr=ElasticNetRegression()"
   ]
  },
  {
   "cell_type": "code",
   "execution_count": 78,
   "id": "b9f8c1d6",
   "metadata": {},
   "outputs": [],
   "source": [
    "X = df.iloc[:,0].values\n",
    "y = df.iloc[:,1].values"
   ]
  },
  {
   "cell_type": "code",
   "execution_count": 79,
   "id": "3ba09fac",
   "metadata": {},
   "outputs": [
    {
     "data": {
      "text/plain": [
       "(160,)"
      ]
     },
     "execution_count": 79,
     "metadata": {},
     "output_type": "execute_result"
    }
   ],
   "source": [
    "from sklearn.model_selection import train_test_split\n",
    "X_train,X_test,y_train,y_test = train_test_split(X,y,test_size=0.2,random_state=2)\n",
    "X_train.shape"
   ]
  },
  {
   "cell_type": "code",
   "execution_count": 140,
   "id": "67ea8c49",
   "metadata": {},
   "outputs": [],
   "source": [
    "lr.fit(X_train,y_train)\n",
    "rr.fit(X_train,y_train,1.24)\n",
    "lar.fit(X_train,y_train,2)\n",
    "enr.fit(X_train,y_train,2.43,1)"
   ]
  },
  {
   "cell_type": "code",
   "execution_count": 141,
   "id": "caa95414",
   "metadata": {},
   "outputs": [
    {
     "name": "stdout",
     "output_type": "stream",
     "text": [
      "1.9606021816934538\n"
     ]
    }
   ],
   "source": [
    "print(lr.predict(5.12))"
   ]
  },
  {
   "cell_type": "code",
   "execution_count": 142,
   "id": "05f32aeb",
   "metadata": {},
   "outputs": [
    {
     "name": "stdout",
     "output_type": "stream",
     "text": [
      "1.9534205258605608\n"
     ]
    }
   ],
   "source": [
    "print(rr.predict(5.12))"
   ]
  },
  {
   "cell_type": "code",
   "execution_count": 143,
   "id": "92689617",
   "metadata": {},
   "outputs": [
    {
     "name": "stdout",
     "output_type": "stream",
     "text": [
      "1.981220674524355\n"
     ]
    }
   ],
   "source": [
    "print(lar.predict(5.12))"
   ]
  },
  {
   "cell_type": "code",
   "execution_count": 144,
   "id": "0f8a998d",
   "metadata": {},
   "outputs": [
    {
     "name": "stdout",
     "output_type": "stream",
     "text": [
      "1.9800085764714002\n"
     ]
    }
   ],
   "source": [
    "print(enr.predict(5.12))"
   ]
  },
  {
   "cell_type": "code",
   "execution_count": 147,
   "id": "a074767a",
   "metadata": {},
   "outputs": [
    {
     "name": "stdout",
     "output_type": "stream",
     "text": [
      "70.8454810495627 %\n"
     ]
    }
   ],
   "source": [
    "print(2.43/3.43*100,\"%\")"
   ]
  },
  {
   "cell_type": "code",
   "execution_count": null,
   "id": "c05ed360",
   "metadata": {},
   "outputs": [],
   "source": []
  }
 ],
 "metadata": {
  "kernelspec": {
   "display_name": "Python 3 (ipykernel)",
   "language": "python",
   "name": "python3"
  },
  "language_info": {
   "codemirror_mode": {
    "name": "ipython",
    "version": 3
   },
   "file_extension": ".py",
   "mimetype": "text/x-python",
   "name": "python",
   "nbconvert_exporter": "python",
   "pygments_lexer": "ipython3",
   "version": "3.10.6"
  }
 },
 "nbformat": 4,
 "nbformat_minor": 5
}
